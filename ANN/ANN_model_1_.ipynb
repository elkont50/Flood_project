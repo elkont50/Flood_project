{
 "cells": [
  {
   "cell_type": "code",
   "execution_count": 2,
   "metadata": {},
   "outputs": [],
   "source": [
    "# -*- coding: utf-8 -*-\n",
    "import pandas as pd\n",
    "from pandas._libs.tslibs import timestamps\n",
    "from datetime import datetime\n",
    "import numpy as np\n",
    "import matplotlib\n",
    "from matplotlib import pyplot as plt\n",
    "import pymysql\n",
    "from  sklearn.model_selection import train_test_split\n",
    "from sklearn.metrics import r2_score\n",
    "from datetime import datetime\n",
    "import joblib\n",
    "from sklearn.metrics import mean_squared_error,confusion_matrix, accuracy_score\n",
    "from mpl_toolkits.mplot3d import Axes3D\n",
    "Axes3D = Axes3D  # pycharm auto import\n",
    "#Import the Keras libraries and packages\n",
    "import tensorflow as tf\n",
    "from tensorflow import keras \n",
    "from keras.models import Sequential\n",
    "from keras.layers import LSTM\n",
    "from keras.layers import Dense,Dropout\n",
    "from sklearn.preprocessing import StandardScaler\n",
    "import seaborn as sns\n",
    "from pandas.tseries.holiday import USFederalHolidayCalendar\n",
    "from pandas.tseries.offsets import CustomBusinessDay\n",
    "us_bd = CustomBusinessDay(calendar=USFederalHolidayCalendar())\n",
    "\n"
   ]
  },
  {
   "cell_type": "code",
   "execution_count": 3,
   "metadata": {},
   "outputs": [],
   "source": [
    "#waterlevel range 1 \n",
    "mydb=pymysql.connect(host='localhost',port=int(3306),user='root',passwd='',db='sensor_data') \n",
    "query1=\"Select cast(timestamp as char) as Date, cast(thingName as char) as waterLevel,ROW_NUMBER() OVER (ORDER BY id) row_num, cast(value as char) as water_value FROM sensor_data WHERE thingName BETWEEN 'NIVÅ001' AND 'NIVÅ010' AND data_type='waterLevelMmAdjustedRH2000';\"\n",
    "df1=pd.read_sql(query1,mydb)\n",
    "query2=\"Select cast(thingName as char) as seaLevel,ROW_NUMBER() OVER (ORDER BY id) row_num, cast(value as char) as sea_value FROM sensor_data WHERE thingName BETWEEN 'NIVÅ015' AND 'NIVÅ016' AND data_type='waterLevelMmAdjustedRH2000';\"\n",
    "df2=pd.read_sql(query2,mydb)\n",
    "query3=\"Select  cast(thingName as char) as groundLevel, ROW_NUMBER() OVER (ORDER BY id) row_num, cast(value as char) as ground_value,smhi_rain  FROM sensor_data WHERE data_type='waterLevel';\"\n",
    "df3=pd.read_sql(query3,mydb)\n",
    "    "
   ]
  },
  {
   "cell_type": "code",
   "execution_count": 4,
   "metadata": {},
   "outputs": [
    {
     "name": "stdout",
     "output_type": "stream",
     "text": [
      "0       2021-05-04 23:54:52\n",
      "1       2021-05-04 23:44:49\n",
      "2       2021-05-04 23:34:55\n",
      "3       2021-05-04 23:04:51\n",
      "4       2021-05-04 22:54:48\n",
      "                ...        \n",
      "75988   2021-08-04 04:57:53\n",
      "75989   2021-08-04 03:50:07\n",
      "75990   2021-08-04 03:01:40\n",
      "75991   2021-08-04 02:00:38\n",
      "75992   2021-08-04 00:58:32\n",
      "Name: Date, Length: 75993, dtype: datetime64[ns]\n",
      "       row_num waterLevel water_value\n",
      "0            1    NIVÅ001        1673\n",
      "1            2    NIVÅ001        1673\n",
      "2            3    NIVÅ001        1674\n",
      "3            4    NIVÅ001        1674\n",
      "4            5    NIVÅ001        1674\n",
      "...        ...        ...         ...\n",
      "75988    75989    Nivå004         776\n",
      "75989    75990    Nivå004         784\n",
      "75990    75991    Nivå004         789\n",
      "75991    75992    Nivå004         795\n",
      "75992    75993    Nivå004         803\n",
      "\n",
      "[75993 rows x 3 columns]\n",
      "      row_num seaLevel sea_value\n",
      "0           1  Nivå016        79\n",
      "1           2  Nivå016       103\n",
      "2           3  Nivå016       111\n",
      "3           4  Nivå016       134\n",
      "4           5  Nivå016       150\n",
      "...       ...      ...       ...\n",
      "3217     3218  Nivå015       168\n",
      "3218     3219  Nivå015       172\n",
      "3219     3220  Nivå015       161\n",
      "3220     3221  Nivå015       165\n",
      "3221     3222  Nivå015       193\n",
      "\n",
      "[3222 rows x 3 columns]\n",
      "        row_num groundLevel ground_value smhi_rain\n",
      "0             1      GND003      2.79825       8.5\n",
      "1             2      GND003      2.79825       8.5\n",
      "2             3      GND003      2.79825       8.5\n",
      "3             4      GND003      2.79825       8.5\n",
      "4             5      GND003      2.79825       8.5\n",
      "...         ...         ...          ...       ...\n",
      "207669   207670      GND017    0.0273851       0.0\n",
      "207670   207671      GND017    0.0273851       0.0\n",
      "207671   207672      GND017    0.0273851       0.0\n",
      "207672   207673      GND017    0.0273851       0.0\n",
      "207673   207674      GND017    0.0273851       0.0\n",
      "\n",
      "[207674 rows x 4 columns]\n",
      "      row_num groundLevel ground_value smhi_rain waterLevel water_value  \\\n",
      "0           1      GND003      2.79825       8.5    NIVÅ001        1673   \n",
      "1           2      GND003      2.79825       8.5    NIVÅ001        1673   \n",
      "2           3      GND003      2.79825       8.5    NIVÅ001        1674   \n",
      "3           4      GND003      2.79825       8.5    NIVÅ001        1674   \n",
      "4           5      GND003      2.79825       8.5    NIVÅ001        1674   \n",
      "...       ...         ...          ...       ...        ...         ...   \n",
      "3217     3218      GND006      5.29403       3.1    NIVÅ001        1663   \n",
      "3218     3219      GND006      5.29403       3.1    NIVÅ001        1663   \n",
      "3219     3220      GND006      5.29403       3.1    NIVÅ001        1665   \n",
      "3220     3221      GND006      5.29279       3.1    NIVÅ001        1663   \n",
      "3221     3222      GND006      5.29279       3.1    NIVÅ001        1665   \n",
      "\n",
      "     seaLevel sea_value  \n",
      "0     Nivå016        79  \n",
      "1     Nivå016       103  \n",
      "2     Nivå016       111  \n",
      "3     Nivå016       134  \n",
      "4     Nivå016       150  \n",
      "...       ...       ...  \n",
      "3217  Nivå015       168  \n",
      "3218  Nivå015       172  \n",
      "3219  Nivå015       161  \n",
      "3220  Nivå015       165  \n",
      "3221  Nivå015       193  \n",
      "\n",
      "[3222 rows x 8 columns]\n",
      "[['1673' '8.5' '79' '2.79825']\n",
      " ['1673' '8.5' '103' '2.79825']\n",
      " ['1674' '8.5' '111' '2.79825']\n",
      " ...\n",
      " ['1665' '3.1' '161' '5.29403']\n",
      " ['1663' '3.1' '165' '5.29279']\n",
      " ['1665' '3.1' '193' '5.29279']]\n"
     ]
    }
   ],
   "source": [
    "#Separate dates for future plotting\n",
    "df1[\"Date\"] = pd.to_datetime(df1[\"Date\"])\n",
    "train_dates = df1[\"Date\"] \n",
    "\n",
    "print(train_dates)\n",
    "#print(train_dates.tail(15))#Check last few dates. \n",
    " \n",
    "\n",
    "\n",
    "# read values\n",
    "#print(df1)\n",
    "#print(df2)\n",
    "#print(df3)\n",
    "df1_1=pd.DataFrame(df1[[\"row_num\",\"waterLevel\",\"water_value\"]])\n",
    "df2_2=pd.DataFrame(df2[[\"row_num\",\"seaLevel\",\"sea_value\"]])\n",
    "df3_3=pd.DataFrame(df3[[\"row_num\",\"groundLevel\",\"ground_value\",\"smhi_rain\"]])\n",
    "#print reading result\n",
    "print(df1_1)\n",
    "print(df2_2)\n",
    "print(df3_3)\n",
    "# concatniting data\n",
    "#dataframe=[df3_3,df2_2,df1_1]\n",
    "#df1.merge(df2_2,how='left', left_on='Column1', right_on='ColumnA')\n",
    "df=pd.merge(df3_3,df1_1, on='row_num')\n",
    "df_last=pd.merge(df,df2_2, on='row_num')\n",
    "print(df_last)\n",
    "\n",
    " # x, y with sklearn convert to nump.ndarray\n",
    "df_last = df_last[[\"water_value\",\"smhi_rain\",\"sea_value\",\"ground_value\"]].to_numpy()# here we have 4 variables for multiple regression. \n",
    "#y = df_last[[\"water_value\"]].to_numpy() \n",
    "#df_last=pd.merge(x,y, on=\"row_num\")\n",
    "    #print(x)\n",
    "print(df_last)"
   ]
  },
  {
   "cell_type": "code",
   "execution_count": 5,
   "metadata": {},
   "outputs": [],
   "source": [
    "# change the data type to avoid array problem\n",
    "#x=x.astype(np.float64,copy=False)\n",
    "#y=y.astype(np.float64,copy=False)\n",
    "#LSTM uses sigmoid and tanh that are sensitive to magnitude so values need to be normalized"
   ]
  },
  {
   "cell_type": "code",
   "execution_count": 6,
   "metadata": {},
   "outputs": [],
   "source": [
    "# normalize the dataset\n",
    "scaler = StandardScaler()\n",
    "scaler=scaler.fit(df_last)\n",
    "df_x=scaler.transform(df_last)\n",
    "# splitting the data\n",
    "#x_train, x_test, y_train, y_test = train_test_split(x, y, test_size = 0.2, random_state = 0)\n",
    "#print(x_train)\n",
    "#print(y_train)"
   ]
  },
  {
   "cell_type": "code",
   "execution_count": 7,
   "metadata": {},
   "outputs": [
    {
     "name": "stdout",
     "output_type": "stream",
     "text": [
      "[[[ 0.76394755  1.21278972 -0.21220018 -0.47799776]\n",
      "  [ 0.76394755  1.21278972  0.02446945 -0.47799776]\n",
      "  [ 0.76537059  1.21278972  0.10335933 -0.47799776]\n",
      "  ...\n",
      "  [ 0.77248579  1.21278972  0.14280426 -0.47799776]\n",
      "  [ 0.77248579  1.21278972  0.42878006 -0.47799776]\n",
      "  [ 0.77248579  1.21278972  0.09349809 -0.47799776]]\n",
      "\n",
      " [[ 0.76394755  1.21278972  0.02446945 -0.47799776]\n",
      "  [ 0.76537059  1.21278972  0.10335933 -0.47799776]\n",
      "  [ 0.76537059  1.21278972  0.33016772 -0.47799776]\n",
      "  ...\n",
      "  [ 0.77248579  1.21278972  0.42878006 -0.47799776]\n",
      "  [ 0.77248579  1.21278972  0.09349809 -0.47799776]\n",
      "  [ 0.77248579  1.21278972  0.38933513 -0.47799776]]\n",
      "\n",
      " [[ 0.76537059  1.21278972  0.10335933 -0.47799776]\n",
      "  [ 0.76537059  1.21278972  0.33016772 -0.47799776]\n",
      "  [ 0.76537059  1.21278972  0.48794747 -0.47799776]\n",
      "  ...\n",
      "  [ 0.77248579  1.21278972  0.09349809 -0.47799776]\n",
      "  [ 0.77248579  1.21278972  0.38933513 -0.47799776]\n",
      "  [ 0.77533187  1.21278972  0.22169414 -0.47799776]]\n",
      "\n",
      " ...\n",
      "\n",
      " [[-0.4257137  -0.82454525  1.43462598  0.55042056]\n",
      "  [-0.4257137  -0.82454525  1.55296079  0.55042056]\n",
      "  [-0.4257137  -0.82454525  1.49379338  0.55042056]\n",
      "  ...\n",
      "  [ 0.74971716 -0.82454525  0.90211932  0.54888251]\n",
      "  [ 0.74971716 -0.82454525  0.66544969  0.54837257]\n",
      "  [ 0.74971716 -0.82454525  0.70489463  0.54837257]]\n",
      "\n",
      " [[-0.4257137  -0.82454525  1.55296079  0.55042056]\n",
      "  [-0.4257137  -0.82454525  1.49379338  0.55042056]\n",
      "  [-0.4257137  -0.82454525  1.43462598  0.55042056]\n",
      "  ...\n",
      "  [ 0.74971716 -0.82454525  0.66544969  0.54837257]\n",
      "  [ 0.74971716 -0.82454525  0.70489463  0.54837257]\n",
      "  [ 0.75256324 -0.82454525  0.59642105  0.54837257]]\n",
      "\n",
      " [[-0.4257137  -0.82454525  1.49379338  0.55042056]\n",
      "  [-0.4257137  -0.82454525  1.43462598  0.55042056]\n",
      "  [-0.4257137  -0.82454525  1.55296079  0.54990651]\n",
      "  ...\n",
      "  [ 0.74971716 -0.82454525  0.70489463  0.54837257]\n",
      "  [ 0.75256324 -0.82454525  0.59642105  0.54837257]\n",
      "  [ 0.74971716 -0.82454525  0.63586599  0.54786263]]]\n",
      "[[0.77248579]\n",
      " [0.77533187]\n",
      " [0.77533187]\n",
      " ...\n",
      " [0.75256324]\n",
      " [0.74971716]\n",
      " [0.75256324]]\n",
      "x_train shape == (3207, 15, 4).\n",
      "y_train shape == (3207, 1).\n"
     ]
    }
   ],
   "source": [
    "#As required for LSTM networks, we require to reshape an input data into n_samples x timesteps x n_features. \n",
    "#In this example, the n_features is 4. We will make timesteps = 15 (past days data used for training). \n",
    "\n",
    "#Empty lists to be populated using formatted training data\n",
    "x_train = []\n",
    "y_train = []\n",
    "\n",
    "n_future = 1   # Number of days we want to look into the future based on the past days.\n",
    "n_past = 15  # Number of past days we want to use to predict the future.\n",
    "\n",
    "#Reformat input data into a shape: (n_samples x timesteps x n_features)\n",
    "#the df_x has a shape (3208, 4)\n",
    "#3208 refers to the number of data points and 4 refers to the columns (multi-variables).\n",
    "for i in range(n_past, len(df_x) - n_future +1):\n",
    "    x_train.append(df_x[i - n_past:i, 0:df_x.shape[1]])\n",
    "    y_train.append(df_x[i + n_future - 1:i + n_future, 0])\n",
    "\n",
    "x_train,y_train = np.array(x_train), np.array(y_train)\n",
    "\n",
    "print(x_train)\n",
    "print(y_train)\n",
    "print('x_train shape == {}.'.format(x_train.shape))\n",
    "print('y_train shape == {}.'.format(y_train.shape))"
   ]
  },
  {
   "cell_type": "code",
   "execution_count": 8,
   "metadata": {},
   "outputs": [
    {
     "name": "stdout",
     "output_type": "stream",
     "text": [
      "Model: \"sequential\"\n",
      "_________________________________________________________________\n",
      "Layer (type)                 Output Shape              Param #   \n",
      "=================================================================\n",
      "lstm (LSTM)                  (None, 15, 64)            17664     \n",
      "_________________________________________________________________\n",
      "lstm_1 (LSTM)                (None, 32)                12416     \n",
      "_________________________________________________________________\n",
      "dropout (Dropout)            (None, 32)                0         \n",
      "_________________________________________________________________\n",
      "dense (Dense)                (None, 1)                 33        \n",
      "=================================================================\n",
      "Total params: 30,113\n",
      "Trainable params: 30,113\n",
      "Non-trainable params: 0\n",
      "_________________________________________________________________\n"
     ]
    }
   ],
   "source": [
    "# define the Autoencoder model\n",
    "\n",
    "model = Sequential()\n",
    "model.add(LSTM(64, activation='relu', input_shape=(x_train.shape[1], x_train.shape[2]), return_sequences=True))\n",
    "model.add(LSTM(32, activation='relu', return_sequences=False))\n",
    "model.add(Dropout(0.2))\n",
    "model.add(Dense(y_train.shape[1]))\n",
    "\n",
    "model.compile(optimizer='adam', loss='mse',metrics=['mean_squared_error', 'mean_absolute_error', 'mean_absolute_percentage_error'])\n",
    "model.summary()\n"
   ]
  },
  {
   "cell_type": "code",
   "execution_count": 9,
   "metadata": {
    "scrolled": true
   },
   "outputs": [
    {
     "name": "stdout",
     "output_type": "stream",
     "text": [
      "Epoch 1/5\n",
      "181/181 [==============================] - 38s 19ms/step - loss: 0.3289 - mean_squared_error: 0.3289 - mean_absolute_error: 0.4285 - mean_absolute_percentage_error: 45.1286 - val_loss: 0.1639 - val_mean_squared_error: 0.1639 - val_mean_absolute_error: 0.2286 - val_mean_absolute_percentage_error: 21.9270\n",
      "Epoch 2/5\n",
      "181/181 [==============================] - 2s 12ms/step - loss: 0.0800 - mean_squared_error: 0.0800 - mean_absolute_error: 0.1814 - mean_absolute_percentage_error: 19.6825 - val_loss: 0.0794 - val_mean_squared_error: 0.0794 - val_mean_absolute_error: 0.1672 - val_mean_absolute_percentage_error: 17.9631\n",
      "Epoch 3/5\n",
      "181/181 [==============================] - 2s 11ms/step - loss: 0.0510 - mean_squared_error: 0.0510 - mean_absolute_error: 0.1528 - mean_absolute_percentage_error: 17.2023 - val_loss: 0.0518 - val_mean_squared_error: 0.0518 - val_mean_absolute_error: 0.0914 - val_mean_absolute_percentage_error: 10.6591\n",
      "Epoch 4/5\n",
      "181/181 [==============================] - 2s 11ms/step - loss: 0.0567 - mean_squared_error: 0.0567 - mean_absolute_error: 0.1543 - mean_absolute_percentage_error: 17.2772 - val_loss: 0.0407 - val_mean_squared_error: 0.0407 - val_mean_absolute_error: 0.0941 - val_mean_absolute_percentage_error: 12.2738\n",
      "Epoch 5/5\n",
      "181/181 [==============================] - 2s 11ms/step - loss: 0.0514 - mean_squared_error: 0.0514 - mean_absolute_error: 0.1485 - mean_absolute_percentage_error: 16.2757 - val_loss: 0.0380 - val_mean_squared_error: 0.0380 - val_mean_absolute_error: 0.0898 - val_mean_absolute_percentage_error: 10.7208\n"
     ]
    },
    {
     "data": {
      "text/plain": [
       "<matplotlib.legend.Legend at 0x2ef740e5df0>"
      ]
     },
     "execution_count": 9,
     "metadata": {},
     "output_type": "execute_result"
    },
    {
     "data": {
      "image/png": "[encoded data removed]",
      "text/plain": [
       "<Figure size 432x288 with 1 Axes>"
      ]
     },
     "metadata": {
      "needs_background": "light"
     },
     "output_type": "display_data"
    }
   ],
   "source": [
    "# fit the model\n",
    "history = model.fit(x_train, y_train, epochs=5, batch_size=16, validation_split=0.1, verbose=1)\n",
    "\n",
    "plt.plot(history.history['loss'], label='Training loss')\n",
    "plt.plot(history.history['val_loss'], label='Validation loss')\n",
    "plt.legend()\n",
    "\n"
   ]
  },
  {
   "cell_type": "code",
   "execution_count": 10,
   "metadata": {},
   "outputs": [
    {
     "data": {
      "image/png": "[encoded data removed]",
      "text/plain": [
       "<Figure size 432x288 with 1 Axes>"
      ]
     },
     "metadata": {
      "needs_background": "light"
     },
     "output_type": "display_data"
    }
   ],
   "source": [
    "# plot metrics\n",
    "plt.plot(history.history['mean_squared_error'])\n",
    "plt.plot(history.history['mean_absolute_error'])\n",
    "plt.plot(history.history['mean_absolute_percentage_error'])\n",
    "\n",
    "plt.show()"
   ]
  },
  {
   "cell_type": "code",
   "execution_count": 379,
   "metadata": {},
   "outputs": [
    {
     "name": "stdout",
     "output_type": "stream",
     "text": [
      "        Date  Water_Level_last\n",
      "0 2021-09-10       1099.735107\n",
      "1 2021-09-11       1100.006348\n",
      "2 2021-09-12       1100.231567\n",
      "3 2021-09-13       1100.402466\n",
      "4 2021-09-14       1100.525757\n",
      "5 2021-09-15       1100.612671\n",
      "6 2021-09-16       1100.670166\n",
      "                     Date water_value\n",
      "75986 2021-08-04 06:55:54         768\n",
      "75987 2021-08-04 06:01:35         771\n",
      "75988 2021-08-04 04:57:53         776\n",
      "75989 2021-08-04 03:50:07         784\n",
      "75990 2021-08-04 03:01:40         789\n",
      "75991 2021-08-04 02:00:38         795\n",
      "75992 2021-08-04 00:58:32         803\n"
     ]
    },
    {
     "name": "stderr",
     "output_type": "stream",
     "text": [
      "C:\\Users\\alha1207\\Anaconda3\\lib\\site-packages\\seaborn\\_decorators.py:36: FutureWarning: Pass the following variables as keyword args: x, y. From version 0.12, the only valid positional argument will be `data`, and passing other arguments without an explicit keyword will result in an error or misinterpretation.\n",
      "  warnings.warn(\n"
     ]
    },
    {
     "data": {
      "text/plain": [
       "<AxesSubplot:xlabel='Date', ylabel='Water_Level_last'>"
      ]
     },
     "execution_count": 379,
     "metadata": {},
     "output_type": "execute_result"
    },
    {
     "data": {
      "image/png": "[encoded data removed]",
      "text/plain": [
       "<Figure size 576x576 with 1 Axes>"
      ]
     },
     "metadata": {},
     "output_type": "display_data"
    }
   ],
   "source": [
    "n_future=7\n",
    "#n_past = 16\n",
    "#n_days_for_prediction=15\n",
    "#print(train_dates)\n",
    "#train_dates=pd.to_datetime(pd.Series(df1[\"Date\"]))\n",
    "#print(train_dates)\n",
    "#list(train_dates)[-1]\n",
    "forecast_period_dates = pd.date_range(start=datetime.now(), periods=n_future, freq='1D').tolist()\n",
    "#print(forecast_period_dates)\n",
    "#predict the next 7 days\n",
    "#print(x_train)\n",
    "forecast = model.predict(x_train[-n_future:])\n",
    "#print(forecast)\n",
    "forecast_copies =np.repeat(forecast, df_last.shape[1],axis=-1)\n",
    "y_pred_future = scaler.inverse_transform(forecast_copies)[:,0]\n",
    "#print(forecast_copies)\n",
    "#print(y_pred_future)\n",
    "# Convert timestamp to date\n",
    "forecast_dates = []\n",
    "for time_i in forecast_period_dates:\n",
    "    forecast_dates.append(time_i.date())\n",
    "df_forecast = pd.DataFrame({'Date':np.array(forecast_dates), 'Water_Level_last':y_pred_future})\n",
    "df_forecast[\"Date\"]=pd.to_datetime(df_forecast[\"Date\"])\n",
    "print(df_forecast)\n",
    "\n",
    "original = df1[[\"Date\",\"water_value\"]]\n",
    "original = original.tail(7)\n",
    "print(original)\n",
    "#original[\"Date\"]=df1[\"Date\"]\n",
    "#original = original.loc[original[\"Date\"] >= '2021-8-4']\n",
    "#print(original)\n",
    "#sns.set(rc={'figure.figsize':(8,8)})\n",
    "#sns.lineplot(original[\"Date\"], original[\"water_value\"])\n",
    "sns.lineplot(df_forecast[\"Date\"], df_forecast[\"Water_Level_last\"])\n",
    "\n",
    "\n"
   ]
  },
  {
   "cell_type": "code",
   "execution_count": 15,
   "metadata": {},
   "outputs": [
    {
     "ename": "NameError",
     "evalue": "name 'df_forecast' is not defined",
     "output_type": "error",
     "traceback": [
      "\u001b[1;31m---------------------------------------------------------------------------\u001b[0m",
      "\u001b[1;31mNameError\u001b[0m                                 Traceback (most recent call last)",
      "\u001b[1;32m<ipython-input-15-d07b205af1be>\u001b[0m in \u001b[0;36m<module>\u001b[1;34m\u001b[0m\n\u001b[0;32m      1\u001b[0m \u001b[1;31m#test values\u001b[0m\u001b[1;33m\u001b[0m\u001b[1;33m\u001b[0m\u001b[1;33m\u001b[0m\u001b[0m\n\u001b[1;32m----> 2\u001b[1;33m \u001b[0mpredicted_waterLevel\u001b[0m \u001b[1;33m=\u001b[0m \u001b[0mdf_forecast\u001b[0m\u001b[1;33m[\u001b[0m\u001b[1;34m\"Water_Level_last\"\u001b[0m\u001b[1;33m]\u001b[0m\u001b[1;33m\u001b[0m\u001b[1;33m\u001b[0m\u001b[0m\n\u001b[0m\u001b[0;32m      3\u001b[0m \u001b[0mprint\u001b[0m\u001b[1;33m(\u001b[0m\u001b[1;34m\"Water Level for next 7 days :\\n\"\u001b[0m\u001b[1;33m,\u001b[0m\u001b[0mpredicted_waterLevelt\u001b[0m\u001b[1;33m)\u001b[0m\u001b[1;33m\u001b[0m\u001b[1;33m\u001b[0m\u001b[0m\n\u001b[0;32m      4\u001b[0m \u001b[1;32mfor\u001b[0m \u001b[0mi\u001b[0m \u001b[1;32min\u001b[0m \u001b[0mpredicted_waterLevel\u001b[0m\u001b[1;33m:\u001b[0m\u001b[1;33m\u001b[0m\u001b[1;33m\u001b[0m\u001b[0m\n\u001b[0;32m      5\u001b[0m     \u001b[1;32mif\u001b[0m\u001b[1;33m(\u001b[0m\u001b[0mi\u001b[0m \u001b[1;33m>\u001b[0m \u001b[1;36m800\u001b[0m\u001b[1;33m)\u001b[0m\u001b[1;33m:\u001b[0m\u001b[1;33m\u001b[0m\u001b[1;33m\u001b[0m\u001b[0m\n",
      "\u001b[1;31mNameError\u001b[0m: name 'df_forecast' is not defined"
     ]
    }
   ],
   "source": [
    "#test values\n",
    "predicted_waterLevel = df_forecast[\"Water_Level_last\"] \n",
    "print(\"Water Level for next 7 days :\\n\",predicted_waterLevelt) \n",
    "for i in predicted_waterLevel:\n",
    "    if(i > 800): \n",
    "         print(\"Will flood soon\") \n",
    "    else:\n",
    "         print(\"Water level is OK\") \n",
    "dir='C:\\\\Users\\\\alha1207\\\\ANN\\\\output\\\\'\n",
    "filename ='ANN_model_1.sav' \n",
    "joblib.dump(predicted_waterLevel, dir + filename)"
   ]
  },
  {
   "cell_type": "code",
   "execution_count": 402,
   "metadata": {},
   "outputs": [
    {
     "name": "stdout",
     "output_type": "stream",
     "text": [
      "Database closed!\n"
     ]
    }
   ],
   "source": [
    "## database cloding \n",
    "mydb.close() #close the connection\n",
    "print(\"Database closed!\")"
   ]
  },
  {
   "cell_type": "code",
   "execution_count": null,
   "metadata": {},
   "outputs": [],
   "source": []
  }
 ],
 "metadata": {
  "kernelspec": {
   "display_name": "Python 3",
   "language": "python",
   "name": "python3"
  },
  "language_info": {
   "codemirror_mode": {
    "name": "ipython",
    "version": 3
   },
   "file_extension": ".py",
   "mimetype": "text/x-python",
   "name": "python",
   "nbconvert_exporter": "python",
   "pygments_lexer": "ipython3",
   "version": "3.8.5"
  }
 },
 "nbformat": 4,
 "nbformat_minor": 4
}

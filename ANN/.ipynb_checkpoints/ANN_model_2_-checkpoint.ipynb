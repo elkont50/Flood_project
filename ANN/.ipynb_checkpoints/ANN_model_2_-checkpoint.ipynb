{
 "cells": [
  {
   "cell_type": "code",
   "execution_count": 1,
   "metadata": {},
   "outputs": [],
   "source": [
    "# -*- coding: utf-8 -*-\n",
    "import pandas as pd\n",
    "from pandas._libs.tslibs import timestamps\n",
    "from datetime import datetime\n",
    "import numpy as np\n",
    "import matplotlib\n",
    "from matplotlib import pyplot as plt\n",
    "import pymysql\n",
    "from  sklearn.model_selection import train_test_split\n",
    "from sklearn.metrics import r2_score\n",
    "from datetime import datetime\n",
    "import joblib\n",
    "from sklearn.metrics import mean_squared_error,confusion_matrix, accuracy_score\n",
    "from mpl_toolkits.mplot3d import Axes3D\n",
    "Axes3D = Axes3D  # pycharm auto import\n",
    "#Import the Keras libraries and packages\n",
    "import tensorflow as tf\n",
    "from tensorflow import keras \n",
    "from keras.models import Sequential\n",
    "from keras.layers import LSTM\n",
    "from keras.layers import Dense,Dropout\n",
    "from sklearn.preprocessing import StandardScaler\n",
    "import seaborn as sns\n",
    "from pandas.tseries.holiday import USFederalHolidayCalendar\n",
    "from pandas.tseries.offsets import CustomBusinessDay\n",
    "us_bd = CustomBusinessDay(calendar=USFederalHolidayCalendar())"
   ]
  },
  {
   "cell_type": "code",
   "execution_count": 8,
   "metadata": {},
   "outputs": [],
   "source": [
    "\n",
    "mydb=pymysql.connect(host='localhost',port=int(3306),user='root',passwd='',db='sensor_data') \n",
    "#waterlevel range 1\n",
    "query1 = \"Select cast(timestamp as char) as Date, cast(thingName as char) as waterLevel, ROW_NUMBER() OVER (ORDER BY id) row_num , cast(value as char) as water_value  FROM sensor_data WHERE thingName ='NIVÅ011'  AND data_type='waterLevelMmAdjustedRH2000';\"\n",
    "df1 = pd.read_sql(query1,mydb)\n",
    "#print(df1)\n",
    "#sea level\n",
    "query2 = \"Select cast(thingName as char) as seaLevel,ROW_NUMBER() OVER (ORDER BY id) row_num, cast(value as char) as sea_value FROM sensor_data WHERE thingName BETWEEN 'NIVÅ015' AND 'NIVÅ016' AND data_type='waterLevelMmAdjustedRH2000';\"\n",
    "df2 = pd.read_sql(query2,mydb)\n",
    "#print(df2)\n",
    "#ground water\n",
    "query3 = \"Select  cast(thingName as char) as groundLevel, ROW_NUMBER() OVER (ORDER BY id) row_num, cast(value as char) as ground_value,smhi_rain  FROM sensor_data WHERE data_type='waterLevel';\"\n",
    "df3 = pd.read_sql(query3,mydb)\n",
    "    "
   ]
  },
  {
   "cell_type": "code",
   "execution_count": 9,
   "metadata": {},
   "outputs": [
    {
     "name": "stdout",
     "output_type": "stream",
     "text": [
      "0      2021-05-28 23:56:31\n",
      "1      2021-05-28 21:51:09\n",
      "2      2021-05-28 20:58:13\n",
      "3      2021-05-28 19:52:19\n",
      "4      2021-05-28 18:54:50\n",
      "               ...        \n",
      "2626   2021-08-04 03:58:55\n",
      "2627   2021-08-04 02:51:45\n",
      "2628   2021-08-04 01:53:02\n",
      "2629   2021-08-04 00:56:17\n",
      "2630   2021-08-04 00:01:22\n",
      "Name: Date, Length: 2631, dtype: datetime64[ns]\n",
      "      row_num waterLevel water_value\n",
      "0           1    Nivå011       -3198\n",
      "1           2    Nivå011       -3315\n",
      "2           3    Nivå011       -3138\n",
      "3           4    Nivå011       -3303\n",
      "4           5    Nivå011       -3258\n",
      "...       ...        ...         ...\n",
      "2626     2627    Nivå011       -3190\n",
      "2627     2628    Nivå011       -3159\n",
      "2628     2629    Nivå011       -3333\n",
      "2629     2630    Nivå011       -3225\n",
      "2630     2631    Nivå011       -3177\n",
      "\n",
      "[2631 rows x 3 columns]\n",
      "      row_num seaLevel sea_value\n",
      "0           1  Nivå016        79\n",
      "1           2  Nivå016       103\n",
      "2           3  Nivå016       111\n",
      "3           4  Nivå016       134\n",
      "4           5  Nivå016       150\n",
      "...       ...      ...       ...\n",
      "3217     3218  Nivå015       168\n",
      "3218     3219  Nivå015       172\n",
      "3219     3220  Nivå015       161\n",
      "3220     3221  Nivå015       165\n",
      "3221     3222  Nivå015       193\n",
      "\n",
      "[3222 rows x 3 columns]\n",
      "        row_num groundLevel ground_value smhi_rain\n",
      "0             1      GND003      2.79825       8.5\n",
      "1             2      GND003      2.79825       8.5\n",
      "2             3      GND003      2.79825       8.5\n",
      "3             4      GND003      2.79825       8.5\n",
      "4             5      GND003      2.79825       8.5\n",
      "...         ...         ...          ...       ...\n",
      "207669   207670      GND017    0.0273851       0.0\n",
      "207670   207671      GND017    0.0273851       0.0\n",
      "207671   207672      GND017    0.0273851       0.0\n",
      "207672   207673      GND017    0.0273851       0.0\n",
      "207673   207674      GND017    0.0273851       0.0\n",
      "\n",
      "[207674 rows x 4 columns]\n",
      "      row_num groundLevel ground_value smhi_rain waterLevel water_value  \\\n",
      "0           1      GND003      2.79825       8.5    Nivå011       -3198   \n",
      "1           2      GND003      2.79825       8.5    Nivå011       -3315   \n",
      "2           3      GND003      2.79825       8.5    Nivå011       -3138   \n",
      "3           4      GND003      2.79825       8.5    Nivå011       -3303   \n",
      "4           5      GND003      2.79825       8.5    Nivå011       -3258   \n",
      "...       ...         ...          ...       ...        ...         ...   \n",
      "2626     2627      GND003      2.79825       3.1    Nivå011       -3190   \n",
      "2627     2628      GND003      2.79825       3.1    Nivå011       -3159   \n",
      "2628     2629      GND003      2.79825       3.1    Nivå011       -3333   \n",
      "2629     2630      GND003      2.79825       3.1    Nivå011       -3225   \n",
      "2630     2631      GND003      2.79825       3.1    Nivå011       -3177   \n",
      "\n",
      "     seaLevel sea_value  \n",
      "0     Nivå016        79  \n",
      "1     Nivå016       103  \n",
      "2     Nivå016       111  \n",
      "3     Nivå016       134  \n",
      "4     Nivå016       150  \n",
      "...       ...       ...  \n",
      "2626  Nivå016       120  \n",
      "2627  Nivå016        92  \n",
      "2628  Nivå016        85  \n",
      "2629  Nivå016        73  \n",
      "2630  Nivå016        60  \n",
      "\n",
      "[2631 rows x 8 columns]\n",
      "[['-3198' '8.5' '79' '2.79825']\n",
      " ['-3315' '8.5' '103' '2.79825']\n",
      " ['-3138' '8.5' '111' '2.79825']\n",
      " ...\n",
      " ['-3333' '3.1' '85' '2.79825']\n",
      " ['-3225' '3.1' '73' '2.79825']\n",
      " ['-3177' '3.1' '60' '2.79825']]\n"
     ]
    }
   ],
   "source": [
    "#Separate dates for future plotting\n",
    "df1[\"Date\"] = pd.to_datetime(df1[\"Date\"])\n",
    "train_dates = df1[\"Date\"] \n",
    "\n",
    "print(train_dates)\n",
    "#print(train_dates.tail(15))#Check last few dates. \n",
    " \n",
    "df1_1=pd.DataFrame(df1[[\"row_num\",\"waterLevel\",\"water_value\"]])\n",
    "df2_2=pd.DataFrame(df2[[\"row_num\",\"seaLevel\",\"sea_value\"]])\n",
    "df3_3=pd.DataFrame(df3[[\"row_num\",\"groundLevel\",\"ground_value\",\"smhi_rain\"]])\n",
    "#print reading result\n",
    "print(df1_1)\n",
    "print(df2_2)\n",
    "print(df3_3)\n",
    "# concatniting data\n",
    "#dataframe=[df3_3,df2_2,df1_1]\n",
    "#df1.merge(df2_2,how='left', left_on='Column1', right_on='ColumnA')\n",
    "df=pd.merge(df3_3,df1_1, on='row_num')\n",
    "df_last=pd.merge(df,df2_2, on='row_num')\n",
    "print(df_last)\n",
    "\n",
    " # x, y with sklearn convert to nump.ndarray\n",
    "df_last = df_last[[\"water_value\",\"smhi_rain\",\"sea_value\",\"ground_value\"]].to_numpy()# here we have 4 variables for multiple regression. \n",
    "#y = df_last[[\"water_value\"]].to_numpy() \n",
    "#df_last=pd.merge(x,y, on=\"row_num\")\n",
    "    #print(x)\n",
    "print(df_last)"
   ]
  },
  {
   "cell_type": "code",
   "execution_count": 10,
   "metadata": {},
   "outputs": [],
   "source": [
    "# normalize the dataset\n",
    "scaler = StandardScaler()\n",
    "scaler=scaler.fit(df_last)\n",
    "df_x=scaler.transform(df_last)\n",
    "# splitting the data\n",
    "#x_train, x_test, y_train, y_test = train_test_split(x, y, test_size = 0.2, random_state = 0)\n",
    "#print(x_train)\n",
    "#print(y_train)"
   ]
  },
  {
   "cell_type": "code",
   "execution_count": 11,
   "metadata": {},
   "outputs": [
    {
     "name": "stdout",
     "output_type": "stream",
     "text": [
      "[[[ 0.26910225  1.00878047 -0.24244506 -0.42520163]\n",
      "  [-1.76870679  1.00878047  0.02218676 -0.42520163]\n",
      "  [ 1.31413252  1.00878047  0.11039737 -0.42520163]\n",
      "  ...\n",
      "  [ 0.73936587  1.00878047  0.15450267 -0.42520163]\n",
      "  [ 0.65228001  1.00878047  0.47426611 -0.42520163]\n",
      "  [-1.97771284  1.00878047  0.09937104 -0.42520163]]\n",
      "\n",
      " [[-1.76870679  1.00878047  0.02218676 -0.42520163]\n",
      "  [ 1.31413252  1.00878047  0.11039737 -0.42520163]\n",
      "  [-1.55970073  1.00878047  0.36400286 -0.42520163]\n",
      "  ...\n",
      "  [ 0.65228001  1.00878047  0.47426611 -0.42520163]\n",
      "  [-1.97771284  1.00878047  0.09937104 -0.42520163]\n",
      "  [ 1.24446384  1.00878047  0.43016081 -0.42520163]]\n",
      "\n",
      " [[ 1.31413252  1.00878047  0.11039737 -0.42520163]\n",
      "  [-1.55970073  1.00878047  0.36400286 -0.42520163]\n",
      "  [-0.77592803  1.00878047  0.54042407 -0.42520163]\n",
      "  ...\n",
      "  [-1.97771284  1.00878047  0.09937104 -0.42520163]\n",
      "  [ 1.24446384  1.00878047  0.43016081 -0.42520163]\n",
      "  [ 0.3561881   1.00878047  0.24271327 -0.42520163]]\n",
      "\n",
      " ...\n",
      "\n",
      " [[-0.49725329 -0.99129596  1.01455607 -0.4247101 ]\n",
      "  [-2.02996436 -0.99129596  1.0255824  -0.4247101 ]\n",
      "  [-1.8209583  -0.99129596  0.80505589 -0.4247101 ]\n",
      "  ...\n",
      "  [ 1.08770929 -0.99129596  0.15450267 -0.42520163]\n",
      "  [ 0.40843962 -0.99129596  0.2096343  -0.42520163]\n",
      "  [ 0.94837193 -0.99129596 -0.09910282 -0.42520163]]\n",
      "\n",
      " [[-2.02996436 -0.99129596  1.0255824  -0.4247101 ]\n",
      "  [-1.8209583  -0.99129596  0.80505589 -0.4247101 ]\n",
      "  [ 0.93095475 -0.99129596  1.00352975 -0.4247101 ]\n",
      "  ...\n",
      "  [ 0.40843962 -0.99129596  0.2096343  -0.42520163]\n",
      "  [ 0.94837193 -0.99129596 -0.09910282 -0.42520163]\n",
      "  [-2.08221587 -0.99129596 -0.1762871  -0.42520163]]\n",
      "\n",
      " [[-1.8209583  -0.99129596  0.80505589 -0.4247101 ]\n",
      "  [ 0.93095475 -0.99129596  1.00352975 -0.4247101 ]\n",
      "  [ 1.03545778 -0.99129596  1.03660872 -0.4247101 ]\n",
      "  ...\n",
      "  [ 0.94837193 -0.99129596 -0.09910282 -0.42520163]\n",
      "  [-2.08221587 -0.99129596 -0.1762871  -0.42520163]\n",
      "  [-0.20116138 -0.99129596 -0.30860301 -0.42520163]]]\n",
      "[[ 1.24446384]\n",
      " [ 0.3561881 ]\n",
      " [ 1.19221232]\n",
      " ...\n",
      " [-2.08221587]\n",
      " [-0.20116138]\n",
      " [ 0.63486284]]\n",
      "x_train shape == (2616, 15, 4).\n",
      "y_train shape == (2616, 1).\n"
     ]
    }
   ],
   "source": [
    "#As required for LSTM networks, we require to reshape an input data into n_samples x timesteps x n_features. \n",
    "#In this example, the n_features is 4. We will make timesteps = 15 (past days data used for training). \n",
    "\n",
    "#Empty lists to be populated using formatted training data\n",
    "x_train = []\n",
    "y_train = []\n",
    "\n",
    "n_future = 1   # Number of days we want to look into the future based on the past days.\n",
    "n_past = 15  # Number of past days we want to use to predict the future.\n",
    "\n",
    "#Reformat input data into a shape: (n_samples x timesteps x n_features)\n",
    "#the df_x has a shape (3208, 4)\n",
    "#3208 refers to the number of data points and 4 refers to the columns (multi-variables).\n",
    "for i in range(n_past, len(df_x) - n_future +1):\n",
    "    x_train.append(df_x[i - n_past:i, 0:df_x.shape[1]])\n",
    "    y_train.append(df_x[i + n_future - 1:i + n_future, 0])\n",
    "\n",
    "x_train,y_train = np.array(x_train), np.array(y_train)\n",
    "\n",
    "print(x_train)\n",
    "print(y_train)\n",
    "print('x_train shape == {}.'.format(x_train.shape))\n",
    "print('y_train shape == {}.'.format(y_train.shape))"
   ]
  },
  {
   "cell_type": "code",
   "execution_count": 12,
   "metadata": {},
   "outputs": [
    {
     "name": "stdout",
     "output_type": "stream",
     "text": [
      "Model: \"sequential\"\n",
      "_________________________________________________________________\n",
      "Layer (type)                 Output Shape              Param #   \n",
      "=================================================================\n",
      "lstm (LSTM)                  (None, 15, 64)            17664     \n",
      "_________________________________________________________________\n",
      "lstm_1 (LSTM)                (None, 32)                12416     \n",
      "_________________________________________________________________\n",
      "dropout (Dropout)            (None, 32)                0         \n",
      "_________________________________________________________________\n",
      "dense (Dense)                (None, 1)                 33        \n",
      "=================================================================\n",
      "Total params: 30,113\n",
      "Trainable params: 30,113\n",
      "Non-trainable params: 0\n",
      "_________________________________________________________________\n"
     ]
    }
   ],
   "source": [
    "# define the Autoencoder model\n",
    "\n",
    "model = Sequential()\n",
    "model.add(LSTM(64, activation='relu', input_shape=(x_train.shape[1], x_train.shape[2]), return_sequences=True))\n",
    "model.add(LSTM(32, activation='relu', return_sequences=False))\n",
    "model.add(Dropout(0.2))\n",
    "model.add(Dense(y_train.shape[1]))\n",
    "\n",
    "model.compile(optimizer='adam', loss='mse',metrics=['mean_squared_error', 'mean_absolute_error', 'mean_absolute_percentage_error'])\n",
    "model.summary()"
   ]
  },
  {
   "cell_type": "code",
   "execution_count": 13,
   "metadata": {},
   "outputs": [
    {
     "name": "stdout",
     "output_type": "stream",
     "text": [
      "Epoch 1/5\n",
      "148/148 [==============================] - 68s 23ms/step - loss: 0.9595 - mean_squared_error: 0.9595 - mean_absolute_error: 0.8221 - mean_absolute_percentage_error: 115.3302 - val_loss: 1.5171 - val_mean_squared_error: 1.5171 - val_mean_absolute_error: 0.9554 - val_mean_absolute_percentage_error: 137.7095\n",
      "Epoch 2/5\n",
      "148/148 [==============================] - 2s 11ms/step - loss: 0.8818 - mean_squared_error: 0.8818 - mean_absolute_error: 0.7770 - mean_absolute_percentage_error: 114.7321 - val_loss: 1.5516 - val_mean_squared_error: 1.5516 - val_mean_absolute_error: 0.9749 - val_mean_absolute_percentage_error: 116.6923\n",
      "Epoch 3/5\n",
      "148/148 [==============================] - 2s 12ms/step - loss: 0.8835 - mean_squared_error: 0.8835 - mean_absolute_error: 0.7923 - mean_absolute_percentage_error: 115.7226 - val_loss: 1.6908 - val_mean_squared_error: 1.6908 - val_mean_absolute_error: 0.9908 - val_mean_absolute_percentage_error: 129.9589\n",
      "Epoch 4/5\n",
      "148/148 [==============================] - 2s 15ms/step - loss: 0.8884 - mean_squared_error: 0.8884 - mean_absolute_error: 0.7942 - mean_absolute_percentage_error: 131.1596 - val_loss: 1.8263 - val_mean_squared_error: 1.8263 - val_mean_absolute_error: 0.9997 - val_mean_absolute_percentage_error: 135.5482\n",
      "Epoch 5/5\n",
      "148/148 [==============================] - 2s 13ms/step - loss: 0.8695 - mean_squared_error: 0.8695 - mean_absolute_error: 0.7877 - mean_absolute_percentage_error: 123.8092 - val_loss: 2.3625 - val_mean_squared_error: 2.3625 - val_mean_absolute_error: 1.0582 - val_mean_absolute_percentage_error: 156.4504\n"
     ]
    },
    {
     "data": {
      "text/plain": [
       "<matplotlib.legend.Legend at 0x274feba4c40>"
      ]
     },
     "execution_count": 13,
     "metadata": {},
     "output_type": "execute_result"
    },
    {
     "data": {
      "image/png": "[encoded data removed]",
      "text/plain": [
       "<Figure size 432x288 with 1 Axes>"
      ]
     },
     "metadata": {
      "needs_background": "light"
     },
     "output_type": "display_data"
    }
   ],
   "source": [
    "# fit the model\n",
    "history = model.fit(x_train, y_train, epochs=5, batch_size=16, validation_split=0.1, verbose=1)\n",
    "\n",
    "plt.plot(history.history['loss'], label='Training loss')\n",
    "plt.plot(history.history['val_loss'], label='Validation loss')\n",
    "plt.legend()\n"
   ]
  },
  {
   "cell_type": "code",
   "execution_count": 14,
   "metadata": {},
   "outputs": [
    {
     "data": {
      "image/png": "[encoded data removed]",
      "text/plain": [
       "<Figure size 432x288 with 1 Axes>"
      ]
     },
     "metadata": {
      "needs_background": "light"
     },
     "output_type": "display_data"
    }
   ],
   "source": [
    "# plot metrics\n",
    "plt.plot(history.history['mean_squared_error'])\n",
    "plt.plot(history.history['mean_absolute_error'])\n",
    "plt.plot(history.history['mean_absolute_percentage_error'])\n",
    "\n",
    "plt.show()"
   ]
  },
  {
   "cell_type": "code",
   "execution_count": 15,
   "metadata": {},
   "outputs": [
    {
     "name": "stdout",
     "output_type": "stream",
     "text": [
      "        Date  Water_Level_last\n",
      "0 2021-09-11      -3191.158691\n",
      "1 2021-09-12      -3190.390869\n",
      "2 2021-09-13      -3191.416260\n",
      "3 2021-09-14      -3191.568604\n",
      "4 2021-09-15      -3192.247070\n",
      "5 2021-09-16      -3190.388428\n",
      "6 2021-09-17      -3190.709961\n",
      "                    Date water_value\n",
      "2624 2021-08-04 06:00:00       -3244\n",
      "2625 2021-08-04 04:56:18       -3151\n",
      "2626 2021-08-04 03:58:55       -3190\n",
      "2627 2021-08-04 02:51:45       -3159\n",
      "2628 2021-08-04 01:53:02       -3333\n",
      "2629 2021-08-04 00:56:17       -3225\n",
      "2630 2021-08-04 00:01:22       -3177\n"
     ]
    },
    {
     "name": "stderr",
     "output_type": "stream",
     "text": [
      "C:\\Users\\alha1207\\Anaconda3\\lib\\site-packages\\seaborn\\_decorators.py:36: FutureWarning: Pass the following variables as keyword args: x, y. From version 0.12, the only valid positional argument will be `data`, and passing other arguments without an explicit keyword will result in an error or misinterpretation.\n",
      "  warnings.warn(\n"
     ]
    },
    {
     "data": {
      "text/plain": [
       "<AxesSubplot:xlabel='Date', ylabel='Water_Level_last'>"
      ]
     },
     "execution_count": 15,
     "metadata": {},
     "output_type": "execute_result"
    },
    {
     "data": {
      "image/png": "[encoded data removed]",
      "text/plain": [
       "<Figure size 432x288 with 1 Axes>"
      ]
     },
     "metadata": {
      "needs_background": "light"
     },
     "output_type": "display_data"
    }
   ],
   "source": [
    "n_future=7\n",
    "#n_past = 16\n",
    "#n_days_for_prediction=15\n",
    "#print(train_dates)\n",
    "#train_dates=pd.to_datetime(pd.Series(df1[\"Date\"]))\n",
    "#print(train_dates)\n",
    "#list(train_dates)[-1]\n",
    "forecast_period_dates = pd.date_range(start=datetime.now(), periods=n_future, freq='1D').tolist()\n",
    "#print(forecast_period_dates)\n",
    "#predict the next 7 days\n",
    "#print(x_train)\n",
    "forecast = model.predict(x_train[-n_future:])\n",
    "#print(forecast)\n",
    "forecast_copies =np.repeat(forecast, df_last.shape[1],axis=-1)\n",
    "y_pred_future = scaler.inverse_transform(forecast_copies)[:,0]\n",
    "#print(forecast_copies)\n",
    "#print(y_pred_future)\n",
    "# Convert timestamp to date\n",
    "forecast_dates = []\n",
    "for time_i in forecast_period_dates:\n",
    "    forecast_dates.append(time_i.date())\n",
    "df_forecast = pd.DataFrame({'Date':np.array(forecast_dates), 'Water_Level_last':y_pred_future})\n",
    "df_forecast[\"Date\"]=pd.to_datetime(df_forecast[\"Date\"])\n",
    "print(df_forecast)\n",
    "\n",
    "original = df1[[\"Date\",\"water_value\"]]\n",
    "original = original.tail(7)\n",
    "print(original)\n",
    "#original[\"Date\"]=df1[\"Date\"]\n",
    "#original = original.loc[original[\"Date\"] >= '2021-8-4']\n",
    "#print(original)\n",
    "#sns.set(rc={'figure.figsize':(8,8)})\n",
    "#sns.lineplot(original[\"Date\"], original[\"water_value\"])\n",
    "sns.lineplot(df_forecast[\"Date\"], df_forecast[\"Water_Level_last\"])\n"
   ]
  },
  {
   "cell_type": "code",
   "execution_count": 20,
   "metadata": {},
   "outputs": [
    {
     "name": "stdout",
     "output_type": "stream",
     "text": [
      "Water Level for next 7 days :\n",
      "         Date  Water_Level_last\n",
      "0 2021-09-11      -3191.158691\n",
      "1 2021-09-12      -3190.390869\n",
      "2 2021-09-13      -3191.416260\n",
      "3 2021-09-14      -3191.568604\n",
      "4 2021-09-15      -3192.247070\n",
      "5 2021-09-16      -3190.388428\n",
      "6 2021-09-17      -3190.709961\n",
      "Water level is OK\n",
      "Water level is OK\n",
      "Water level is OK\n",
      "Water level is OK\n",
      "Water level is OK\n",
      "Water level is OK\n",
      "Water level is OK\n"
     ]
    },
    {
     "data": {
      "text/plain": [
       "['C:\\\\Users\\\\alha1207\\\\ANN\\\\output\\\\ANN_model_2.sav']"
      ]
     },
     "execution_count": 20,
     "metadata": {},
     "output_type": "execute_result"
    }
   ],
   "source": [
    "#test values\n",
    "predicted_waterLevel = df_forecast[\"Water_Level_last\"] \n",
    "print(\"Water Level for next 7 days :\\n\",df_forecast) \n",
    "for i in predicted_waterLevel:\n",
    "    if(i > 0): \n",
    "         print(\"Will flood soon\") \n",
    "    else:\n",
    "         print(\"Water level is OK\") \n",
    "dir='C:\\\\Users\\\\alha1207\\\\ANN\\\\output\\\\'\n",
    "filename ='ANN_model_2.sav' \n",
    "joblib.dump(predicted_waterLevel, dir + filename)"
   ]
  },
  {
   "cell_type": "code",
   "execution_count": 19,
   "metadata": {},
   "outputs": [
    {
     "name": "stdout",
     "output_type": "stream",
     "text": [
      "Database closed!\n"
     ]
    }
   ],
   "source": [
    "## database cloding \n",
    "mydb.close() #close the connection\n",
    "print(\"Database closed!\")"
   ]
  },
  {
   "cell_type": "code",
   "execution_count": null,
   "metadata": {},
   "outputs": [],
   "source": []
  }
 ],
 "metadata": {
  "kernelspec": {
   "display_name": "Python 3",
   "language": "python",
   "name": "python3"
  },
  "language_info": {
   "codemirror_mode": {
    "name": "ipython",
    "version": 3
   },
   "file_extension": ".py",
   "mimetype": "text/x-python",
   "name": "python",
   "nbconvert_exporter": "python",
   "pygments_lexer": "ipython3",
   "version": "3.8.5"
  }
 },
 "nbformat": 4,
 "nbformat_minor": 4
}
